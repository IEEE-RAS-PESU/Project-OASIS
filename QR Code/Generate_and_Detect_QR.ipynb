{
  "nbformat": 4,
  "nbformat_minor": 0,
  "metadata": {
    "colab": {
      "name": "Generate and Detect QR.ipynb",
      "provenance": []
    },
    "kernelspec": {
      "name": "python3",
      "display_name": "Python 3"
    },
    "language_info": {
      "name": "python"
    }
  },
  "cells": [
    {
      "cell_type": "code",
      "metadata": {
        "colab": {
          "base_uri": "https://localhost:8080/"
        },
        "id": "eNe91XrzuJKU",
        "outputId": "974c98c7-c599-457c-ff42-c3f47140703d"
      },
      "source": [
        "pip install qrcode"
      ],
      "execution_count": 1,
      "outputs": [
        {
          "output_type": "stream",
          "text": [
            "Collecting qrcode\n",
            "  Downloading https://files.pythonhosted.org/packages/42/87/4a3a77e59ab7493d64da1f69bf1c2e899a4cf81e51b2baa855e8cc8115be/qrcode-6.1-py2.py3-none-any.whl\n",
            "Requirement already satisfied: six in /usr/local/lib/python3.7/dist-packages (from qrcode) (1.15.0)\n",
            "Installing collected packages: qrcode\n",
            "Successfully installed qrcode-6.1\n"
          ],
          "name": "stdout"
        }
      ]
    },
    {
      "cell_type": "code",
      "metadata": {
        "id": "CuW57ZpTugIJ"
      },
      "source": [
        "import qrcode"
      ],
      "execution_count": 2,
      "outputs": []
    },
    {
      "cell_type": "code",
      "metadata": {
        "id": "hXxE5-LwuiXG"
      },
      "source": [
        "import cv2"
      ],
      "execution_count": 3,
      "outputs": []
    },
    {
      "cell_type": "code",
      "metadata": {
        "id": "AJepJPpmujfc"
      },
      "source": [
        "from google.colab.patches import cv2_imshow"
      ],
      "execution_count": 4,
      "outputs": []
    },
    {
      "cell_type": "code",
      "metadata": {
        "id": "YwLd3AfCulow"
      },
      "source": [
        "img=qrcode.make(\"Hey this is MAHIMA DUBEY!!\")"
      ],
      "execution_count": 5,
      "outputs": []
    },
    {
      "cell_type": "code",
      "metadata": {
        "colab": {
          "base_uri": "https://localhost:8080/"
        },
        "id": "pE6pDsIFuqd5",
        "outputId": "4e3086a6-d284-4955-e667-a1f5c4eea802"
      },
      "source": [
        "print(img.size)"
      ],
      "execution_count": 6,
      "outputs": [
        {
          "output_type": "stream",
          "text": [
            "(330, 330)\n"
          ],
          "name": "stdout"
        }
      ]
    },
    {
      "cell_type": "code",
      "metadata": {
        "colab": {
          "base_uri": "https://localhost:8080/"
        },
        "id": "UxfwpTCNusvx",
        "outputId": "1270c1ad-a2bb-49c9-a918-0e0d747903c4"
      },
      "source": [
        "print(type(img))"
      ],
      "execution_count": 7,
      "outputs": [
        {
          "output_type": "stream",
          "text": [
            "<class 'qrcode.image.pil.PilImage'>\n"
          ],
          "name": "stdout"
        }
      ]
    },
    {
      "cell_type": "code",
      "metadata": {
        "id": "CBLoC77-uv9k"
      },
      "source": [
        "img.save('/content/test.png')"
      ],
      "execution_count": 8,
      "outputs": []
    },
    {
      "cell_type": "code",
      "metadata": {
        "id": "pg2HDdVnu1tp"
      },
      "source": [
        "image=cv2.imread('/content/test.png')"
      ],
      "execution_count": 9,
      "outputs": []
    },
    {
      "cell_type": "code",
      "metadata": {
        "colab": {
          "base_uri": "https://localhost:8080/",
          "height": 347
        },
        "id": "JHtFiDrHu78t",
        "outputId": "f68b5622-2307-487b-ee46-d9d41421ec07"
      },
      "source": [
        "cv2_imshow(image)"
      ],
      "execution_count": 10,
      "outputs": [
        {
          "output_type": "display_data",
          "data": {
            "image/png": "[encoded data removed]",
            "text/plain": [
              "<PIL.Image.Image image mode=RGB size=330x330 at 0x7F0DDC46FC90>"
            ]
          },
          "metadata": {
            "tags": []
          }
        }
      ]
    },
    {
      "cell_type": "code",
      "metadata": {
        "id": "2GaFIpMjzSCc"
      },
      "source": [
        "detector=cv2.QRCodeDetector()"
      ],
      "execution_count": 11,
      "outputs": []
    },
    {
      "cell_type": "code",
      "metadata": {
        "id": "MJtXoYpNze2A"
      },
      "source": [
        "data, bbox, straight_qr=detector.detectAndDecode(image)"
      ],
      "execution_count": 12,
      "outputs": []
    },
    {
      "cell_type": "code",
      "metadata": {
        "colab": {
          "base_uri": "https://localhost:8080/"
        },
        "id": "F2v3ii_Jzn9w",
        "outputId": "95f167ba-81eb-4ed3-b99d-f322e30d80b2"
      },
      "source": [
        "print(\"Detected data=>\",data)"
      ],
      "execution_count": 13,
      "outputs": [
        {
          "output_type": "stream",
          "text": [
            "Detected data=> Hey this is MAHIMA DUBEY!!\n"
          ],
          "name": "stdout"
        }
      ]
    },
    {
      "cell_type": "code",
      "metadata": {
        "colab": {
          "base_uri": "https://localhost:8080/"
        },
        "id": "_WZxIWFLzs4X",
        "outputId": "32979967-809c-461c-ea8e-bf2230c8e351"
      },
      "source": [
        "bbox"
      ],
      "execution_count": 14,
      "outputs": [
        {
          "output_type": "execute_result",
          "data": {
            "text/plain": [
              "array([[[ 40.     ,  40.     ]],\n",
              "\n",
              "       [[288.99997,  40.     ]],\n",
              "\n",
              "       [[288.99997, 288.99997]],\n",
              "\n",
              "       [[ 40.     , 288.99997]]], dtype=float32)"
            ]
          },
          "metadata": {
            "tags": []
          },
          "execution_count": 14
        }
      ]
    },
    {
      "cell_type": "code",
      "metadata": {
        "colab": {
          "base_uri": "https://localhost:8080/"
        },
        "id": "zJ6-u_fqzv3q",
        "outputId": "9628ee35-ca48-40ba-9897-e9fb7a87e9a2"
      },
      "source": [
        "straight_qr"
      ],
      "execution_count": 15,
      "outputs": [
        {
          "output_type": "execute_result",
          "data": {
            "text/plain": [
              "array([[  0.,   0.,   0.,   0.,   0.,   0.,   0., 255., 255., 255., 255.,\n",
              "        255., 255., 255.,   0., 255., 255., 255.,   0.,   0.,   0.,   0.,\n",
              "          0.,   0.,   0.],\n",
              "       [  0., 255., 255., 255., 255., 255.,   0., 255., 255.,   0.,   0.,\n",
              "        255., 255., 255., 255.,   0., 255., 255.,   0., 255., 255., 255.,\n",
              "        255., 255.,   0.],\n",
              "       [  0., 255.,   0.,   0.,   0., 255.,   0., 255., 255.,   0.,   0.,\n",
              "        255.,   0., 255.,   0., 255., 255., 255.,   0., 255.,   0.,   0.,\n",
              "          0., 255.,   0.],\n",
              "       [  0., 255.,   0.,   0.,   0., 255.,   0., 255., 255.,   0.,   0.,\n",
              "        255.,   0., 255., 255., 255., 255., 255.,   0., 255.,   0.,   0.,\n",
              "          0., 255.,   0.],\n",
              "       [  0., 255.,   0.,   0.,   0., 255.,   0., 255., 255., 255.,   0.,\n",
              "        255., 255.,   0.,   0., 255.,   0., 255.,   0., 255.,   0.,   0.,\n",
              "          0., 255.,   0.],\n",
              "       [  0., 255., 255., 255., 255., 255.,   0., 255.,   0., 255., 255.,\n",
              "          0., 255.,   0.,   0.,   0.,   0., 255.,   0., 255., 255., 255.,\n",
              "        255., 255.,   0.],\n",
              "       [  0.,   0.,   0.,   0.,   0.,   0.,   0., 255.,   0., 255.,   0.,\n",
              "        255.,   0., 255.,   0., 255.,   0., 255.,   0.,   0.,   0.,   0.,\n",
              "          0.,   0.,   0.],\n",
              "       [255., 255., 255., 255., 255., 255., 255., 255., 255.,   0.,   0.,\n",
              "        255.,   0., 255., 255.,   0.,   0., 255., 255., 255., 255., 255.,\n",
              "        255., 255., 255.],\n",
              "       [  0., 255., 255.,   0., 255.,   0.,   0., 255.,   0., 255., 255.,\n",
              "          0., 255., 255.,   0.,   0.,   0.,   0., 255.,   0., 255., 255.,\n",
              "        255., 255., 255.],\n",
              "       [255., 255., 255., 255., 255.,   0., 255.,   0.,   0., 255.,   0.,\n",
              "        255.,   0.,   0., 255.,   0.,   0.,   0.,   0., 255., 255.,   0.,\n",
              "          0., 255.,   0.],\n",
              "       [  0.,   0., 255.,   0.,   0.,   0.,   0.,   0.,   0.,   0., 255.,\n",
              "        255.,   0.,   0., 255., 255., 255., 255., 255.,   0.,   0.,   0.,\n",
              "        255.,   0.,   0.],\n",
              "       [  0.,   0.,   0., 255., 255.,   0., 255., 255.,   0.,   0.,   0.,\n",
              "          0.,   0.,   0.,   0.,   0., 255.,   0., 255.,   0.,   0.,   0.,\n",
              "        255.,   0., 255.],\n",
              "       [255.,   0., 255.,   0.,   0., 255.,   0., 255.,   0.,   0.,   0.,\n",
              "          0.,   0., 255., 255.,   0.,   0.,   0.,   0., 255., 255., 255.,\n",
              "        255.,   0.,   0.],\n",
              "       [255.,   0., 255.,   0., 255.,   0., 255.,   0., 255., 255.,   0.,\n",
              "          0., 255., 255.,   0.,   0., 255., 255.,   0., 255., 255.,   0.,\n",
              "          0.,   0.,   0.],\n",
              "       [  0., 255., 255., 255.,   0., 255.,   0., 255.,   0., 255., 255.,\n",
              "          0., 255., 255.,   0., 255., 255.,   0.,   0.,   0.,   0., 255.,\n",
              "          0., 255.,   0.],\n",
              "       [255.,   0.,   0.,   0.,   0., 255., 255.,   0.,   0.,   0., 255.,\n",
              "          0., 255.,   0.,   0.,   0., 255., 255.,   0.,   0., 255., 255.,\n",
              "        255.,   0., 255.],\n",
              "       [  0.,   0., 255., 255.,   0., 255.,   0., 255.,   0., 255.,   0.,\n",
              "        255.,   0.,   0., 255., 255.,   0.,   0.,   0.,   0.,   0.,   0.,\n",
              "          0., 255., 255.],\n",
              "       [255., 255., 255., 255., 255., 255., 255., 255.,   0., 255.,   0.,\n",
              "          0., 255.,   0.,   0.,   0.,   0., 255., 255., 255.,   0., 255.,\n",
              "        255., 255., 255.],\n",
              "       [  0.,   0.,   0.,   0.,   0.,   0.,   0., 255., 255., 255., 255.,\n",
              "        255., 255.,   0.,   0., 255.,   0., 255.,   0., 255.,   0., 255.,\n",
              "          0.,   0.,   0.],\n",
              "       [  0., 255., 255., 255., 255., 255.,   0., 255.,   0.,   0.,   0.,\n",
              "          0., 255., 255., 255., 255.,   0., 255., 255., 255.,   0., 255.,\n",
              "          0.,   0.,   0.],\n",
              "       [  0., 255.,   0.,   0.,   0., 255.,   0., 255., 255.,   0., 255.,\n",
              "          0.,   0., 255.,   0., 255.,   0.,   0.,   0.,   0.,   0., 255.,\n",
              "        255.,   0., 255.],\n",
              "       [  0., 255.,   0.,   0.,   0., 255.,   0., 255.,   0.,   0., 255.,\n",
              "        255., 255.,   0., 255., 255., 255.,   0., 255., 255.,   0.,   0.,\n",
              "          0., 255., 255.],\n",
              "       [  0., 255.,   0.,   0.,   0., 255.,   0., 255., 255., 255., 255.,\n",
              "        255., 255.,   0., 255.,   0.,   0., 255., 255., 255.,   0., 255.,\n",
              "        255., 255.,   0.],\n",
              "       [  0., 255., 255., 255., 255., 255.,   0., 255., 255.,   0.,   0.,\n",
              "        255., 255.,   0., 255.,   0., 255., 255., 255., 255.,   0., 255.,\n",
              "        255., 255., 255.],\n",
              "       [  0.,   0.,   0.,   0.,   0.,   0.,   0., 255.,   0., 255.,   0.,\n",
              "          0., 255., 255., 255.,   0.,   0., 255.,   0., 255., 255., 255.,\n",
              "        255.,   0.,   0.]], dtype=float32)"
            ]
          },
          "metadata": {
            "tags": []
          },
          "execution_count": 15
        }
      ]
    },
    {
      "cell_type": "code",
      "metadata": {
        "id": "3YdIOxfHzyyv"
      },
      "source": [
        ""
      ],
      "execution_count": null,
      "outputs": []
    }
  ]
}